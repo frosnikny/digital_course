{
 "cells": [
  {
   "cell_type": "code",
   "execution_count": 2,
   "id": "4f4b94ba",
   "metadata": {
    "ExecuteTime": {
     "end_time": "2022-12-02T08:02:45.649927Z",
     "start_time": "2022-12-02T08:02:45.575742Z"
    },
    "run_control": {
     "marked": false
    }
   },
   "outputs": [],
   "source": [
    "import requests\n",
    "from bs4 import BeautifulSoup"
   ]
  },
  {
   "cell_type": "code",
   "execution_count": null,
   "id": "2a269d2c",
   "metadata": {
    "ExecuteTime": {
     "start_time": "2022-12-02T22:41:58.730Z"
    },
    "code_folding": [],
    "run_control": {
     "marked": false
    },
    "scrolled": true
   },
   "outputs": [],
   "source": [
    "url = 'https://lks.bmstu.ru/schedule/list'\n",
    "page = requests.get(url)\n",
    "soup = BeautifulSoup(page.text, 'html.parser')\n",
    "all_groups = soup.findAll('a', class_='schedule-indent')\n",
    "\n",
    "schedule = {}\n",
    "for group in all_groups:\n",
    "    group_url = 'https://lks.bmstu.ru/' + group['href']\n",
    "    group_page = requests.get(group_url)\n",
    "    group_soup = BeautifulSoup(group_page.text, 'html.parser')\n",
    "    group_schedule = {} \n",
    "    for i, day in enumerate(group_soup.findAll('div', 'd-md-block')):\n",
    "        times = day.findAll('td', 'bg-grey text-nowrap')\n",
    "        numerator_lessons = []\n",
    "        denominator_lessons = []\n",
    "        for time in times:\n",
    "            numerator_lesson = time.next_sibling.next_sibling\n",
    "            try:\n",
    "                type(numerator_lesson['class'])\n",
    "                numerator_lessons.append(numerator_lesson.text)\n",
    "                denominator_lesson = numerator_lesson.next_sibling.next_sibling\n",
    "                denominator_lessons.append(denominator_lesson.text)\n",
    "            except:\n",
    "                numerator_lessons.append(numerator_lesson.text)\n",
    "                denominator_lessons.append(numerator_lesson.text)\n",
    "        group_schedule[i] = [(times[j].text, numerator_lessons[j], denominator_lessons[j]) for j in range(len(times))]\n",
    "    schedule[group.text] = group_schedule\n",
    "\n",
    "schedule\n"
   ]
  },
  {
   "cell_type": "code",
   "execution_count": null,
   "id": "56f6b47d",
   "metadata": {},
   "outputs": [],
   "source": []
  }
 ],
 "metadata": {
  "kernelspec": {
   "display_name": "Python 3 (ipykernel)",
   "language": "python",
   "name": "python3"
  },
  "language_info": {
   "codemirror_mode": {
    "name": "ipython",
    "version": 3
   },
   "file_extension": ".py",
   "mimetype": "text/x-python",
   "name": "python",
   "nbconvert_exporter": "python",
   "pygments_lexer": "ipython3",
   "version": "3.9.12"
  },
  "nbTranslate": {
   "displayLangs": [
    "*"
   ],
   "hotkey": "alt-t",
   "langInMainMenu": true,
   "sourceLang": "en",
   "targetLang": "fr",
   "useGoogleTranslate": true
  },
  "toc": {
   "base_numbering": 1,
   "nav_menu": {},
   "number_sections": true,
   "sideBar": true,
   "skip_h1_title": false,
   "title_cell": "Table of Contents",
   "title_sidebar": "Contents",
   "toc_cell": false,
   "toc_position": {},
   "toc_section_display": true,
   "toc_window_display": false
  },
  "varInspector": {
   "cols": {
    "lenName": 16,
    "lenType": 16,
    "lenVar": 40
   },
   "kernels_config": {
    "python": {
     "delete_cmd_postfix": "",
     "delete_cmd_prefix": "del ",
     "library": "var_list.py",
     "varRefreshCmd": "print(var_dic_list())"
    },
    "r": {
     "delete_cmd_postfix": ") ",
     "delete_cmd_prefix": "rm(",
     "library": "var_list.r",
     "varRefreshCmd": "cat(var_dic_list()) "
    }
   },
   "types_to_exclude": [
    "module",
    "function",
    "builtin_function_or_method",
    "instance",
    "_Feature"
   ],
   "window_display": false
  }
 },
 "nbformat": 4,
 "nbformat_minor": 5
}
