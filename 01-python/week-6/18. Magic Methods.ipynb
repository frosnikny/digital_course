{
 "cells": [
  {
   "cell_type": "markdown",
   "metadata": {},
   "source": [
    "# Магические методы классов\n",
    "\n",
    "## Строковое представление объектов\n",
    "\n",
    "- `__repr__` - строковое представление объектов\n",
    "- `__str__` - метод, который вызывается функциями `str`, `format`, `print`\n",
    "- `__format__` - метод, который вызывается при форматировании строки (`.format(...)`, f-strings)"
   ]
  },
  {
   "cell_type": "code",
   "execution_count": null,
   "metadata": {},
   "outputs": [],
   "source": [
    "class A:\n",
    "    def __init__(self, value):\n",
    "        self.value = value\n",
    "    \n",
    "    def __str__(self):\n",
    "        return f'A({self.value}) object str method'\n",
    "    \n",
    "    def __repr__(self):\n",
    "        return f'A({self.value}) object repr method'\n",
    "    \n",
    "    def __format__(self, format_spec):\n",
    "        return f'A({self.value}) object format method'\n",
    "    \n",
    "\n",
    "a = A(365)\n",
    "print(a)\n",
    "print(\"some text with %s\" % a)\n",
    "print(f\"some text with {a}\")\n",
    "print(\"some text with {a}\".format(a=a))\n",
    "a"
   ]
  },
  {
   "cell_type": "markdown",
   "metadata": {},
   "source": [
    "## Rich Comparison\n",
    "\n",
    "Магические методы для использования объекта класса с операторами сравнения. Нужно либо указать все, либо использовать декоратор total_ordering, который дополнит недостающие методы \"антонимами\":"
   ]
  },
  {
   "cell_type": "code",
   "execution_count": null,
   "metadata": {},
   "outputs": [],
   "source": [
    "from functools import total_ordering\n",
    "\n",
    "@total_ordering\n",
    "class Person(object):\n",
    "\n",
    "    def __init__(self, firstname, lastname):\n",
    "        self.first = firstname\n",
    "        self.last = lastname\n",
    "\n",
    "    def __eq__(self, other):\n",
    "        print(f\"{self.first} {self.last} eq:\", end='\\t')\n",
    "        return ((self.last, self.first) == (other.last, other.first))\n",
    "\n",
    "#     def __ne__(self, other):\n",
    "#         print(f\"{self.first} {self.last} ne:\", end='\\t')\n",
    "#         return ((self.last, self.first) != (other.last, other.first))\n",
    "\n",
    "#     def __lt__(self, other):\n",
    "#         print(f\"{self.first} {self.last} lt:\", end='\\t')\n",
    "#         return ((self.last, self.first) < (other.last, other.first))\n",
    "\n",
    "    def __le__(self, other):\n",
    "        print(f\"{self.first} {self.last} le:\", end='\\t')\n",
    "        return ((self.last, self.first) <= (other.last, other.first))\n",
    "\n",
    "#     def __gt__(self, other):\n",
    "#         print(f\"{self.first} {self.last} gt:\", end='\\t')\n",
    "#         return ((self.last, self.first) > (other.last, other.first))\n",
    "\n",
    "    def __ge__(self, other):\n",
    "        print(f\"{self.first} {self.last} ge:\", end='\\t')\n",
    "        return ((self.last, self.first) >= (other.last, other.first))\n",
    "\n",
    "    def __repr__(self):\n",
    "        return \"%s %s\" % (self.first, self.last)\n",
    "    \n",
    "    \n",
    "a = Person(\"Евпатий\", \"Коловрат\")\n",
    "b = Person(\"Илья\", \"Муромец\")\n",
    "\n",
    "print(a == b)\n",
    "print(a != b)\n",
    "print(a >= b)\n",
    "print(a > b)\n",
    "print(a <= b)\n",
    "print(a < b)"
   ]
  },
  {
   "cell_type": "markdown",
   "metadata": {},
   "source": [
    "### Метод `__hash__`\n",
    "\n",
    "Этот метод отвечает за уникальность объекта и возможность его использования как ключ в hashable-коллекциях. Создадим пустой класс и посмотрим, как в нем работают оператор `is`, использование его как ключа в hashable-коллекции и сравнение."
   ]
  },
  {
   "cell_type": "code",
   "execution_count": 4,
   "metadata": {},
   "outputs": [
    {
     "name": "stdout",
     "output_type": "stream",
     "text": [
      "False\n",
      "{<__main__.X object at 0x7faab817db80>: 1, <__main__.X object at 0x7faab817da00>: 2}\n",
      "False\n",
      "8773200608696 8773200608672\n"
     ]
    }
   ],
   "source": [
    "class X:\n",
    "    pass\n",
    "\n",
    "a = X()\n",
    "b = X()\n",
    "\n",
    "print(a is b)\n",
    "print({a: 1, b: 2})\n",
    "print(a == b)\n",
    "print(hash(a), hash(b))"
   ]
  },
  {
   "cell_type": "code",
   "execution_count": 5,
   "metadata": {},
   "outputs": [
    {
     "data": {
      "text/plain": [
       "1"
      ]
     },
     "execution_count": 5,
     "metadata": {},
     "output_type": "execute_result"
    }
   ],
   "source": [
    "c = a\n",
    "d = {a: 1, b: 2}\n",
    "d[c]"
   ]
  },
  {
   "cell_type": "code",
   "execution_count": 6,
   "metadata": {},
   "outputs": [
    {
     "data": {
      "text/plain": [
       "True"
      ]
     },
     "execution_count": 6,
     "metadata": {},
     "output_type": "execute_result"
    }
   ],
   "source": [
    "c in [a, b]"
   ]
  },
  {
   "cell_type": "markdown",
   "metadata": {},
   "source": [
    "Добавим метод, который делает наш объект равным чему угодно."
   ]
  },
  {
   "cell_type": "code",
   "execution_count": 8,
   "metadata": {},
   "outputs": [
    {
     "name": "stdout",
     "output_type": "stream",
     "text": [
      "True\n",
      "False\n"
     ]
    },
    {
     "ename": "TypeError",
     "evalue": "unhashable type: 'X'",
     "output_type": "error",
     "traceback": [
      "\u001b[0;31m---------------------------------------------------------------------------\u001b[0m",
      "\u001b[0;31mTypeError\u001b[0m                                 Traceback (most recent call last)",
      "\u001b[0;32m<ipython-input-8-18ac3972503f>\u001b[0m in \u001b[0;36m<module>\u001b[0;34m\u001b[0m\n\u001b[1;32m      9\u001b[0m \u001b[0mprint\u001b[0m\u001b[0;34m(\u001b[0m\u001b[0ma\u001b[0m \u001b[0;34m==\u001b[0m \u001b[0mb\u001b[0m\u001b[0;34m)\u001b[0m\u001b[0;34m\u001b[0m\u001b[0;34m\u001b[0m\u001b[0m\n\u001b[1;32m     10\u001b[0m \u001b[0mprint\u001b[0m\u001b[0;34m(\u001b[0m\u001b[0ma\u001b[0m \u001b[0;32mis\u001b[0m \u001b[0mb\u001b[0m\u001b[0;34m)\u001b[0m\u001b[0;34m\u001b[0m\u001b[0;34m\u001b[0m\u001b[0m\n\u001b[0;32m---> 11\u001b[0;31m \u001b[0mprint\u001b[0m\u001b[0;34m(\u001b[0m\u001b[0;34m{\u001b[0m\u001b[0ma\u001b[0m\u001b[0;34m:\u001b[0m \u001b[0;36m1\u001b[0m\u001b[0;34m,\u001b[0m \u001b[0mb\u001b[0m\u001b[0;34m:\u001b[0m \u001b[0;36m2\u001b[0m\u001b[0;34m}\u001b[0m\u001b[0;34m)\u001b[0m\u001b[0;34m\u001b[0m\u001b[0;34m\u001b[0m\u001b[0m\n\u001b[0m\u001b[1;32m     12\u001b[0m \u001b[0mprint\u001b[0m\u001b[0;34m(\u001b[0m\u001b[0mhash\u001b[0m\u001b[0;34m(\u001b[0m\u001b[0ma\u001b[0m\u001b[0;34m)\u001b[0m\u001b[0;34m,\u001b[0m \u001b[0mhash\u001b[0m\u001b[0;34m(\u001b[0m\u001b[0mb\u001b[0m\u001b[0;34m)\u001b[0m\u001b[0;34m)\u001b[0m\u001b[0;34m\u001b[0m\u001b[0;34m\u001b[0m\u001b[0m\n",
      "\u001b[0;31mTypeError\u001b[0m: unhashable type: 'X'"
     ]
    }
   ],
   "source": [
    "class X:\n",
    "    def __eq__(self, other):\n",
    "        return True\n",
    "\n",
    "\n",
    "a = X()\n",
    "b = X()\n",
    "\n",
    "print(a == b)\n",
    "print(a is b)\n",
    "# print({a: 1, b: 2})\n",
    "print(hash(a), hash(b))"
   ]
  },
  {
   "cell_type": "markdown",
   "metadata": {},
   "source": [
    "Взять хеш от объектов не получилось, поскольку при определенном методе `__eq__` сравнение объектов по уникальности неочевидно для интерпретатора. Необходимо реализовать собственный метод `__hash__` в классе. Основное свойство хеша состоит в том, что он должен быть разным для разных объектов. Но что будет, если не придерживаться этого свойства? "
   ]
  },
  {
   "cell_type": "code",
   "execution_count": 12,
   "metadata": {},
   "outputs": [
    {
     "name": "stdout",
     "output_type": "stream",
     "text": [
      "True\n",
      "False\n",
      "{<__main__.X object at 0x7fab00472520>: 2}\n",
      "25 25\n"
     ]
    }
   ],
   "source": [
    "class X:\n",
    "    def __eq__(self, other):\n",
    "        return True\n",
    "    \n",
    "    def __hash__(self):\n",
    "        return 25\n",
    "    \n",
    "a = X()\n",
    "b = X()\n",
    "\n",
    "print(a == b)\n",
    "print(a is b)\n",
    "print({a: 1, b: 2})\n",
    "print(hash(a), hash(b))"
   ]
  },
  {
   "cell_type": "markdown",
   "metadata": {},
   "source": [
    "Значение в словаре перезаписалось, поскольку хеш от обоих объектов одинаковый. Оператор `is` тем не менее выдает False, поскольку id объектов разные."
   ]
  },
  {
   "cell_type": "markdown",
   "metadata": {},
   "source": [
    "## Работа с числовыми операторами\n",
    "\n",
    "https://habr.com/ru/post/186608/\n",
    "\n",
    "### Преобразование типов\n",
    "- `__int__(self)` - Преобразование типа в int.\n",
    "- `__long__(self)` - Преобразование типа в long.\n",
    "- `__float__(self)` - Преобразование типа в float.\n",
    "- `__complex__(self)` - Преобразование типа в комплексное число.\n",
    "- `__oct__(self)` - Преобразование типа в восьмеричное число.\n",
    "- `__hex__(self)` - Преобразование типа в шестнадцатиричное число.\n",
    "- `__index__(self)` - Преобразование типа к int, когда объект используется в срезах (выражения вида `[start:stop:step]`). Если вы определяете свой числовый тип, который может использоваться как индекс списка, вы должны определить `__index__`.\n",
    "- `__trunc__(self)` - Вызывается при math.trunc(self). Должен вернуть своё значение, обрезанное до целочисленного типа (обычно long).\n",
    "\n",
    "\n",
    "### Унарные операции\n",
    "\n",
    "- `__pos__(self)` - Определяет поведение для унарного плюса (`+some_object`)\n",
    "- `__neg__(self)` - Определяет поведение для отрицания (`-some_object`)\n",
    "- `__abs__(self)` - Определяет поведение для встроенной функции abs().\n",
    "- `__invert__(self)` - Определяет поведение для бинарного инвертирования оператором ~.\n",
    "- `__round__(self, n)` - Определяет поведение для встроенной функции round(). n - это число знаков после запятой, до которого округлить.\n",
    "- `__floor__(self)` - Определяет поведение для math.floor(), то есть, округления до ближайшего меньшего целого.\n",
    "- `__ceil__(self)` - Определяет поведение для math.ceil(), то есть, округления до ближайшего большего целого.\n",
    "- `__trunc__(self)` - Определяет поведение для math.trunc(), то есть, обрезания до целого.\n",
    "\n",
    "\n",
    "### Бинарные операции\n",
    "\n",
    "\n",
    "Следующие операции вызываются над левым операндом в операторах. Т.е., например, `x + y` - это `x.__add__(y)`.\n",
    "\n",
    "- `__add__(self, other)` - Сложение.\n",
    "- `__sub__(self, other)` - Вычитание.\n",
    "- `__mul__(self, other)` - Умножение.\n",
    "- `__matmul__(self, other)` - Оператор перемножения матриц `@`\n",
    "- `__floordiv__(self, other)` - Целочисленное деление, оператор `//`.\n",
    "- `__truediv__(self, other)` - Деление, оператор `/`.\n",
    "- `__mod__(self, other)` - Остаток от деления, оператор %.\n",
    "- `__divmod__(self, other)` - Определяет поведение для встроенной функции divmod().\n",
    "- `__pow__(self, other)` - Возведение в степень, оператор `**`.\n",
    "- `__lshift__(self, other)` - Двоичный сдвиг влево, оператор `<<`.\n",
    "- `__rshift__(self, other)` - Двоичный сдвиг вправо, оператор `>>`.\n",
    "- `__and__(self, other)` - Двоичное И, оператор `&`.\n",
    "- `__or__(self, other)` - Двоичное ИЛИ, оператор `|`.\n",
    "- `__xor__(self, other)` - Двоичный xor, оператор `^`.\n",
    "\n",
    "Кроме того, есть функции, с префиксом `r`, например, `__radd__`. Это аналоги тех же функций, но только для тех случаев, когда операнд стоит справа. Т.е. `x + y` - это `y.__radd__(x)`.\n",
    "\n",
    "И также есть префикс `i`, например, `__iadd__`, для случаев операций с присвоением (`x += y`)."
   ]
  },
  {
   "cell_type": "code",
   "execution_count": null,
   "metadata": {},
   "outputs": [],
   "source": [
    "class Meal:\n",
    "    def __init__(self, title, price):\n",
    "        self.title = title\n",
    "        self.price = price\n",
    "        \n",
    "    def __str__(self):\n",
    "        return ': '.join([self.title, str(self.price)])\n",
    "    \n",
    "    def __repr__(self):\n",
    "        \"\"\"Функция, которая используется для текстового представления объекта в случаях, когда это происходит не\n",
    "        через функцию str(obj)\"\"\"\n",
    "        return str(self)\n",
    "    \n",
    "    def __add__(self, other):\n",
    "        \"\"\"Функция, которая описывает прибавление к нашему объекту объекта other\"\"\"\n",
    "        # если у нас оба объекта данного класса, сложим их атрибуты\n",
    "        if isinstance(other, Meal):\n",
    "            new_title = ', '.join([self.title, other.title])\n",
    "            new_price = self.price + other.price\n",
    "        else:\n",
    "            # а если второй объект не этого класса, то попробуем его привести к типу float\n",
    "            new_title = self.title + \" и что-то еще\"\n",
    "            new_price = self.price + float(other)\n",
    "        return Meal(new_title, new_price)\n",
    "    \n",
    "    def __iadd__(self, other):\n",
    "        print(f\"Нельзя впихнуть в {self.title} другую еду\")\n",
    "        return self\n",
    "    \n",
    "    def __neg__(self):\n",
    "        return Meal(self.title, -self.price)"
   ]
  },
  {
   "cell_type": "code",
   "execution_count": null,
   "metadata": {},
   "outputs": [],
   "source": [
    "Meal(\"БигМак\", 200)"
   ]
  },
  {
   "cell_type": "code",
   "execution_count": null,
   "metadata": {},
   "outputs": [],
   "source": [
    "Meal(\"БигМак\", 200) + Meal(\"Картошка\", 50)"
   ]
  },
  {
   "cell_type": "code",
   "execution_count": null,
   "metadata": {},
   "outputs": [],
   "source": [
    "Meal(\"БигМак\", 200) + 25"
   ]
  },
  {
   "cell_type": "code",
   "execution_count": null,
   "metadata": {
    "scrolled": true
   },
   "outputs": [],
   "source": [
    "25 + Meal(\"БигМак\", 200)"
   ]
  },
  {
   "cell_type": "markdown",
   "metadata": {},
   "source": [
    "Произошла ошибка, поскольку у нас определено сложение только <code>Meal + что-то</code>, но не <code>что-то + Meal</code>. В случаях, когда складываемые объекты разных типов, операция сложения в питоне некоммутативна. Чтобы определить обратное сложение, добавим метод <code>\\__radd__</code>"
   ]
  },
  {
   "cell_type": "code",
   "execution_count": null,
   "metadata": {},
   "outputs": [],
   "source": [
    "Meal.__radd__ = Meal.__add__\n",
    "\n",
    "25 + Meal(\"БигМак\", 200)"
   ]
  },
  {
   "cell_type": "code",
   "execution_count": null,
   "metadata": {},
   "outputs": [],
   "source": [
    "- Meal(\"Еда\", 2000)"
   ]
  },
  {
   "cell_type": "code",
   "execution_count": null,
   "metadata": {},
   "outputs": [],
   "source": [
    "a = Meal('доширак', 40)\n",
    "a += 1000\n",
    "a"
   ]
  },
  {
   "cell_type": "markdown",
   "metadata": {},
   "source": [
    "## Эмуляция контейнеров\n",
    "\n",
    "- `object.__len__(self)` - длина контейнера\n",
    "- `object.__getitem__(self, key)` - получение элемента по индексу/ключу\n",
    "- `object.__setitem__(self, key, value)` - назначение элемента\n",
    "- `object.__delitem__(self, key)` - удаление элемента\n",
    "- `object.__missing__(self, key)` - этот метод определен только для классов-наследников словаря и вызывается методом `__getattr__`, когда в словаре нет требуемого элемента\n",
    "- `object.__iter__(self)` - получение итератора\n",
    "- `object.__reversed__(self)` - обратный порядок элементов\n",
    "- `object.__contains__(self, item)` - оператор in"
   ]
  },
  {
   "cell_type": "code",
   "execution_count": 58,
   "metadata": {},
   "outputs": [
    {
     "name": "stdout",
     "output_type": "stream",
     "text": [
      "no-no-no\n",
      "1\n",
      "False\n",
      "True\n"
     ]
    }
   ],
   "source": [
    "class NumberDict(dict):\n",
    "    def __getitem__(self, key):\n",
    "        return super(NumberDict, self).__getitem__(float(key))\n",
    "    \n",
    "    def __setitem__(self, key, value):\n",
    "        super(NumberDict, self).__setitem__(float(key), value)\n",
    "        \n",
    "    def __delitem__(self, key):\n",
    "        super(NumberDict, self).__delitem__(float(key))\n",
    "         \n",
    "    def __missing__(self, key):\n",
    "        return 'no-no-no'\n",
    "    \n",
    "    def __contains__(self, item):\n",
    "        return self[item] != self.__missing__(1)\n",
    "\n",
    "\n",
    "my_dict = NumberDict()  \n",
    "print(my_dict[\"0\"])\n",
    "\n",
    "my_dict[\"0\"] = 1\n",
    "print(my_dict[0])\n",
    "\n",
    "print(1 in my_dict)\n",
    "print(\"0.000\" in my_dict)"
   ]
  },
  {
   "cell_type": "markdown",
   "metadata": {},
   "source": [
    "## Контроль объектов\n",
    "\n",
    "- `__dir__(self)` - Определяет поведение функции `dir()`, вызванной на экземпляре вашего класса. Этот метод должен возвращать пользователю список атрибутов. Обычно, определение `__dir__` не требуется, но может быть жизненно важно для интерактивного использования вашего класса, если вы переопределили `__getattr__` или `__getattribute__` (с которыми вы встретитесь в следующей части), или каким-либо другим образом динамически создаёте атрибуты.\n",
    "- `__sizeof__(self)` - Определяет поведение функции `sys.getsizeof()`, вызыванной на экземпляре вашего класса. Метод должен вернуть размер вашего объекта в байтах. Он главным образом полезен для классов, определённых в расширениях на C, но всё-равно полезно о нём знать.\n",
    "\n",
    "Дурацкий пример `__dir__`:"
   ]
  },
  {
   "cell_type": "code",
   "execution_count": 16,
   "metadata": {},
   "outputs": [
    {
     "data": {
      "text/plain": [
       "['bar', 'foo']"
      ]
     },
     "execution_count": 16,
     "metadata": {},
     "output_type": "execute_result"
    }
   ],
   "source": [
    "class SlotsClass:\n",
    "    __slots__ = ('foo', 'bar')\n",
    "    \n",
    "    def __dir__(self):\n",
    "        return list(self.__slots__)\n",
    "    \n",
    "dir(SlotsClass())"
   ]
  },
  {
   "cell_type": "markdown",
   "metadata": {},
   "source": [
    "## Задание\n",
    "\n",
    "Напишем свой аналог листа таблицы Excel. Нужно написать структуру данных `Field`, в которой доступ к значениям будет осуществляться по ключам. Ключом будет пара \"буква\" - \"число\", по аналогии с адресом ячейки в Excel. Возможные форматы обращения к одной и той же \"ячейке\" данных:\n",
    "\n",
    "`field = Field()`\n",
    "- `field[1, 'a'] = 25`\n",
    "- `field['a', 1] = 25`\n",
    "- `field['a', '1'] = 25`\n",
    "- `field['1', 'a'] = 25`\n",
    "- `field['1a'] = 25`\n",
    "- `field['a1'] = 25`\n",
    "- `field[1, 'A'] = 25`\n",
    "- `field['A', 1] = 25`\n",
    "- `field['A', '1'] = 25`\n",
    "- `field['1', 'A'] = 25`\n",
    "- `field['1A'] = 25`\n",
    "- `field['A1'] = 25`\n",
    "\n",
    "В этом списке каждая из этих строк записывает число `25` в ячейку с одним и тем же ключом. Соответственно, по любому из перечисленных ключей должно быть можно получить это число из объекта `field`. Также должны быть реализованы удаление элемента из структуры и возможность использования оператора `in`, например:\n",
    "\n",
    "- `(1, 'a') in field`: True\n",
    "- `\"A1\" in field`: True\n",
    "- `('D', '4') in field`: False\n",
    "\n",
    "Таким образом, выходит, что ключом структуры может быть либо кортеж, либо строка. При попытке получить или записать значение по ключу другого типа должно быть вызвано исключение `TypeError`. При некорректном значении строки или элементов кортежа нужно вызывать исключение `ValueError`. Корректными значениями будет считать одиночные буквы и неотрицательное целое число любой длины, т.е. правильные варианты ключей:\n",
    "\n",
    "- А1\n",
    "- А222543\n",
    "- Z89\n",
    "\n",
    "Неправильные варианты ключей:\n",
    "\n",
    "- AA5\n",
    "- Q2.5\n",
    "- -6F\n",
    "- A\n",
    "- 27\n",
    "- GG\n",
    "\n",
    "Кроме вышеперчисленного, по объекту должно быть возможно итерироваться. При проходе циклом по объекту должны возвращаться _значения_, хранящиеся в нём. Порядок возврата значений не важен.\n",
    "\n",
    "### Подсказка\n",
    "\n",
    "В своем решении этого задания я использовал в качестве ключей хранимого словаря frozenset, а проверку на ValueError реализовал через регулярку. Также рекомендую проверку типов и преобразование поступившего ключа в тот вид, в котором он хранится \"под капотом\", вынести в отдельный метод и вызывать его из всех описываемых магических методов."
   ]
  },
  {
   "cell_type": "code",
   "execution_count": 93,
   "metadata": {},
   "outputs": [],
   "source": [
    "import re\n",
    "\n",
    "class Field(dict):\n",
    "    def __getitem__(self, key1):\n",
    "        return super(Field, self).__getitem__(self.take_args(key1))\n",
    "    \n",
    "    def __setitem__(self, key1, value):\n",
    "        super(Field, self).__setitem__(self.take_args(key1), value)\n",
    "        \n",
    "    def __delitem__(self, key1):\n",
    "        super(Field, self).__delitem__(self.take_args(key1))\n",
    "         \n",
    "    def __missing__(self, key1):\n",
    "        return None\n",
    "    \n",
    "    def __contains__(self, item):\n",
    "        return self[item] != self.__missing__(1)\n",
    "\n",
    "    def __iter__(self):\n",
    "        for el in self.values():\n",
    "            yield el\n",
    "\n",
    "    \n",
    "    @staticmethod\n",
    "    def take_args(value):\n",
    "        val_err = ValueError(\"Значение позиции ячейки неверно\")\n",
    "        \n",
    "        if type(value) is tuple:\n",
    "            general = str(value[0]) + str(value[1])\n",
    "        elif type(value) is str:\n",
    "            general = str(value)\n",
    "        else:\n",
    "            raise TypeError(\"Передано значение позиции неверного типа\")\n",
    "        if len(general) == 0:\n",
    "            raise val_err\n",
    "        general = general.lower()\n",
    "\n",
    "        numbers = re.findall(r\"\\d+\", general)\n",
    "        not_numbers = re.findall(r\"\\D+\", general)\n",
    "        # Для предотвращения возникновения ошибки \"list index out of range\"\n",
    "        if len(not_numbers) == 0:\n",
    "            raise val_err\n",
    "        letters = re.findall(r\"[a-zA-Z]\", not_numbers[0])\n",
    "        if (len(numbers) != 1) or (len(not_numbers) != 1) or\\\n",
    "         (len(letters) != 1) or (letters[0] != not_numbers[0]):\n",
    "            raise val_err\n",
    "        \n",
    "        return str(letters[0])+str(numbers[0])"
   ]
  },
  {
   "cell_type": "code",
   "execution_count": 90,
   "metadata": {},
   "outputs": [
    {
     "name": "stdout",
     "output_type": "stream",
     "text": [
      "a1\n",
      "b1\n",
      "c1\n",
      "d1\n",
      "a1\n",
      "a1\n",
      "a1\n",
      "a1\n",
      "a1\n",
      "a1\n",
      "A1\n",
      "A1\n",
      "A1\n",
      "A1\n",
      "A1\n",
      "A1\n",
      "A1\n",
      "6 ошибок поймано\n"
     ]
    }
   ],
   "source": [
    "# take_args Test\n",
    "f = Field()\n",
    "\n",
    "print(f.take_args(('a', 1)))\n",
    "print(f.take_args(('b', 1)))\n",
    "print(f.take_args(('c', 1)))\n",
    "print(f.take_args(('d', 1)))\n",
    "print(f.take_args((1, 'a')))\n",
    "print(f.take_args(('a', 1)))\n",
    "print(f.take_args(('a', '1')))\n",
    "print(f.take_args(('1', 'a')))\n",
    "print(f.take_args('1a'))\n",
    "print(f.take_args('a1'))\n",
    "print(f.take_args((1, 'A')))\n",
    "print(f.take_args(('A', 1)))\n",
    "print(f.take_args(('A', '1')))\n",
    "print(f.take_args(('1', 'A')))\n",
    "print(f.take_args((1, 'A')))\n",
    "print(f.take_args('1A'))\n",
    "print(f.take_args('A1'))\n",
    "\n",
    "\n",
    "ERROR_KEYS = [\n",
    "    'AA5',\n",
    "    'Q2.5',\n",
    "    '- 6F',\n",
    "    'A',\n",
    "    '27',\n",
    "    'GG',\n",
    "]\n",
    "i = 0\n",
    "for error_key in ERROR_KEYS:\n",
    "    try:\n",
    "        f.take_args(error_key)\n",
    "    except TypeError:\n",
    "        i += 1\n",
    "    except ValueError:\n",
    "        i += 1\n",
    "print(f\"{i} ошибок поймано\")"
   ]
  },
  {
   "cell_type": "code",
   "execution_count": 84,
   "metadata": {},
   "outputs": [
    {
     "name": "stdout",
     "output_type": "stream",
     "text": [
      "True\n",
      "{'a1': 6, 'b1': 2, 'c1': 3, 'd1': 4, 'A1': 12}\n",
      "True\n",
      "True\n",
      "False\n",
      "6\n",
      "2\n",
      "3\n",
      "4\n",
      "12\n",
      "True\n",
      "До удаления:  6 2 3 4 12 4\n",
      "После удаления:  2 3 4 12 4\n"
     ]
    }
   ],
   "source": [
    "# other Tests\n",
    "field = Field()\n",
    "print(field[\"C5\"] is None)\n",
    "field['a', 1] = 1\n",
    "field['b', 1] = 2\n",
    "field['c', 1] = 3\n",
    "field['d', 1] = 4\n",
    "field[1, 'a'] = 1\n",
    "field['a', 1] = 2\n",
    "field['a', '1'] = 3\n",
    "field['1', 'a'] = 4\n",
    "field['1a'] = 5\n",
    "field['a1'] = 6\n",
    "field[1, 'A'] = 7\n",
    "field['A', 1] = 8\n",
    "field['A', '1'] = 9\n",
    "field['1', 'A'] = 10\n",
    "field[1, 'A'] = 10\n",
    "field['1A'] = 11\n",
    "field['A1'] = 12\n",
    "print(field)\n",
    "print((1, 'a') in field)\n",
    "print(\"A1\" in field)\n",
    "print(('D', '4') in field)\n",
    "for el in field:\n",
    "    print(el)\n",
    "field['F', '123'] = 4\n",
    "print(field['F333'] is None)\n",
    "print('До удаления: ', *field)\n",
    "del field['1', 'a']\n",
    "print('После удаления: ', *field)"
   ]
  },
  {
   "cell_type": "code",
   "execution_count": 92,
   "metadata": {},
   "outputs": [
    {
     "data": {
      "text/plain": [
       "True"
      ]
     },
     "execution_count": 92,
     "metadata": {},
     "output_type": "execute_result"
    }
   ],
   "source": [
    "f = Field()\n",
    "letter = 'A'\n",
    "f[\"1A\"] = 5\n",
    "f[letter, 1] == 5"
   ]
  },
  {
   "cell_type": "code",
   "execution_count": null,
   "metadata": {},
   "outputs": [],
   "source": []
  }
 ],
 "metadata": {
  "kernelspec": {
   "display_name": "Python 3 (ipykernel)",
   "language": "python",
   "name": "python3"
  },
  "language_info": {
   "codemirror_mode": {
    "name": "ipython",
    "version": 3
   },
   "file_extension": ".py",
   "mimetype": "text/x-python",
   "name": "python",
   "nbconvert_exporter": "python",
   "pygments_lexer": "ipython3",
   "version": "3.9.12"
  }
 },
 "nbformat": 4,
 "nbformat_minor": 2
}
