{
 "cells": [
  {
   "cell_type": "markdown",
   "metadata": {},
   "source": [
    "# Методы доступа к атрибутам\n",
    "\n",
    "https://github.com/alexopryshko/advancedpython/tree/master/1\n",
    "\n",
    "В питоне есть еще группа магических методов, которые вызываются при доступе к атрибутам со стороны объекта вызывающего класса:\n",
    "\n",
    "- `__getattribute__(self, name)` - будет вызван при попытке получить значение атрибута. Если этот метод переопределён, стандартный механизм поиска значения атрибута не будет задействован. По умолчанию как раз он и лезет в `__dict__` объекта и вызывает в случае неудачи `__getattr__`:\n",
    "- `__getattr__(self, name)` - будет вызван в случае, если запрашиваемый атрибут не найден обычным механизмом (в `__dict__` экземпляра, класса и т.д.)\n",
    "- `__setattr__(self, name, value)` - будет вызван при попытке установить значение атрибута экземпляра. Если его переопределить, стандартный механизм установки значения не будет задействован.\n",
    "- `__delattr__(self, name)` - используется при удалении атрибута.\n",
    "\n",
    "В следующем примере показано, что `__getattr__` вызывается только тогда, когда стандартными средствами (заглянув в `__dict__` объекта и класса) найти атрибут не получается. При этом в нашем случае метод срабатывает для любых значений, не вызывая AttributeError"
   ]
  },
  {
   "cell_type": "code",
   "execution_count": 1,
   "metadata": {},
   "outputs": [
    {
     "name": "stdout",
     "output_type": "stream",
     "text": [
      "{'name': 'name'} {'__module__': '__main__', '__getattr__': <function A.__getattr__ at 0x7f9f00143e50>, 'field': 'field', '__dict__': <attribute '__dict__' of 'A' objects>, '__weakref__': <attribute '__weakref__' of 'A' objects>, '__doc__': None}\n",
      "\n",
      "\n",
      "a.name name\n",
      "\n",
      "a.field field\n",
      "\n",
      "__getattr__\n",
      "a.random 42\n",
      "\n"
     ]
    }
   ],
   "source": [
    "class A:\n",
    "    def __getattr__(self, attr):\n",
    "        print('__getattr__')\n",
    "        return 42\n",
    "\n",
    "    field = 'field'\n",
    "\n",
    "\n",
    "a = A()\n",
    "a.name = 'name'\n",
    "\n",
    "print(a.__dict__, A.__dict__, end='\\n\\n\\n')\n",
    "print('a.name', a.name, end='\\n\\n')\n",
    "print('a.field', a.field, end='\\n\\n')\n",
    "print('a.random', a.random, end='\\n\\n')"
   ]
  },
  {
   "cell_type": "markdown",
   "metadata": {},
   "source": [
    "А если переопределим `__getattribute__`, то даже на `__dict__` посмотреть не сможем."
   ]
  },
  {
   "cell_type": "code",
   "execution_count": 2,
   "metadata": {},
   "outputs": [
    {
     "name": "stdout",
     "output_type": "stream",
     "text": [
      "__getattribute__\n",
      "__dict__ 42\n",
      "\n",
      "__getattribute__\n",
      "a.name 42\n",
      "\n",
      "__getattribute__\n",
      "a.field 42\n",
      "\n",
      "__getattribute__\n",
      "a.random 42\n",
      "\n",
      "__getattribute__\n",
      "a.__len__ 42\n",
      "\n",
      "len(a) 0\n",
      "\n",
      "test <__main__.A object at 0x7f9f5080c910>\n",
      "type(a)... None\n",
      "\n",
      "A.field field\n",
      "\n"
     ]
    }
   ],
   "source": [
    "class A:\n",
    "    def __getattribute__(self, item):\n",
    "        print('__getattribute__')\n",
    "        return 42\n",
    "\n",
    "    def __len__(self):\n",
    "        return 0\n",
    "\n",
    "    def test(self):\n",
    "        print('test', self)\n",
    "\n",
    "    field = 'field'\n",
    "\n",
    "\n",
    "a = A()\n",
    "a.name = 'name'\n",
    "\n",
    "print('__dict__', getattr(a, \"__dict__\"), end='\\n\\n')\n",
    "print('a.name', a.name, end='\\n\\n')\n",
    "print('a.field', a.field, end='\\n\\n')\n",
    "print('a.random', a.random, end='\\n\\n')\n",
    "print('a.__len__', a.__len__, end='\\n\\n')\n",
    "print('len(a)', len(a), end='\\n\\n')\n",
    "print('type(a)...', type(a).__dict__['test'](a), end='\\n\\n')\n",
    "print('A.field', A.field, end='\\n\\n')\n"
   ]
  },
  {
   "cell_type": "markdown",
   "metadata": {},
   "source": [
    "Переопределяя `__setattr__`, рискуем не увидеть наши добавляемые атрибуты объекта в `__dict__`"
   ]
  },
  {
   "cell_type": "code",
   "execution_count": 3,
   "metadata": {},
   "outputs": [
    {
     "name": "stdout",
     "output_type": "stream",
     "text": [
      "__setattr__\n",
      "__setattr__\n",
      "a.__dict__ {}\n",
      "\n",
      "A.field new\n",
      "\n"
     ]
    }
   ],
   "source": [
    "class A:\n",
    "    def __setattr__(self, key, value):\n",
    "        print('__setattr__')\n",
    "\n",
    "    field = 'field'\n",
    "\n",
    "\n",
    "a = A()\n",
    "a.field = 1\n",
    "a.a = 1\n",
    "print('a.__dict__', a.__dict__, end='\\n\\n')\n",
    "A.field = 'new'\n",
    "print('A.field', A.field, end='\\n\\n')"
   ]
  },
  {
   "cell_type": "code",
   "execution_count": 4,
   "metadata": {},
   "outputs": [
    {
     "data": {
      "text/plain": [
       "'new'"
      ]
     },
     "execution_count": 4,
     "metadata": {},
     "output_type": "execute_result"
    }
   ],
   "source": [
    "a.field"
   ]
  },
  {
   "cell_type": "code",
   "execution_count": 5,
   "metadata": {},
   "outputs": [
    {
     "ename": "AttributeError",
     "evalue": "'A' object has no attribute 'a'",
     "output_type": "error",
     "traceback": [
      "\u001b[0;31m---------------------------------------------------------------------------\u001b[0m",
      "\u001b[0;31mAttributeError\u001b[0m                            Traceback (most recent call last)",
      "\u001b[0;32m<ipython-input-5-bd42e36bf217>\u001b[0m in \u001b[0;36m<module>\u001b[0;34m\u001b[0m\n\u001b[0;32m----> 1\u001b[0;31m \u001b[0ma\u001b[0m\u001b[0;34m.\u001b[0m\u001b[0ma\u001b[0m\u001b[0;34m\u001b[0m\u001b[0;34m\u001b[0m\u001b[0m\n\u001b[0m",
      "\u001b[0;31mAttributeError\u001b[0m: 'A' object has no attribute 'a'"
     ]
    }
   ],
   "source": [
    "a.a"
   ]
  },
  {
   "cell_type": "markdown",
   "metadata": {},
   "source": [
    "А таким образом можем разрешить нашему объекту возвращать только те атрибуты, название которых начинается на слово test. Теоретически, используя этот прием, можно реализовать истинно приватные атрибуты, но зачем?"
   ]
  },
  {
   "cell_type": "code",
   "execution_count": 6,
   "metadata": {},
   "outputs": [
    {
     "name": "stdout",
     "output_type": "stream",
     "text": [
      "a.__dict__ {'test_name': 1, 'name': 1}\n",
      "a.test_name 1\n"
     ]
    },
    {
     "ename": "AttributeError",
     "evalue": "",
     "output_type": "error",
     "traceback": [
      "\u001b[0;31m---------------------------------------------------------------------------\u001b[0m",
      "\u001b[0;31mAttributeError\u001b[0m                            Traceback (most recent call last)",
      "\u001b[0;32m<ipython-input-6-d32120505f02>\u001b[0m in \u001b[0;36m<module>\u001b[0;34m\u001b[0m\n\u001b[1;32m     12\u001b[0m \u001b[0mprint\u001b[0m\u001b[0;34m(\u001b[0m\u001b[0;34m'a.__dict__'\u001b[0m\u001b[0;34m,\u001b[0m \u001b[0ma\u001b[0m\u001b[0;34m.\u001b[0m\u001b[0m__dict__\u001b[0m\u001b[0;34m)\u001b[0m\u001b[0;34m\u001b[0m\u001b[0;34m\u001b[0m\u001b[0m\n\u001b[1;32m     13\u001b[0m \u001b[0mprint\u001b[0m\u001b[0;34m(\u001b[0m\u001b[0;34m'a.test_name'\u001b[0m\u001b[0;34m,\u001b[0m \u001b[0ma\u001b[0m\u001b[0;34m.\u001b[0m\u001b[0mtest_name\u001b[0m\u001b[0;34m)\u001b[0m\u001b[0;34m\u001b[0m\u001b[0;34m\u001b[0m\u001b[0m\n\u001b[0;32m---> 14\u001b[0;31m \u001b[0mprint\u001b[0m\u001b[0;34m(\u001b[0m\u001b[0;34m'a.name'\u001b[0m\u001b[0;34m,\u001b[0m \u001b[0ma\u001b[0m\u001b[0;34m.\u001b[0m\u001b[0mname\u001b[0m\u001b[0;34m)\u001b[0m\u001b[0;34m\u001b[0m\u001b[0;34m\u001b[0m\u001b[0m\n\u001b[0m",
      "\u001b[0;32m<ipython-input-6-d32120505f02>\u001b[0m in \u001b[0;36m__getattribute__\u001b[0;34m(self, item)\u001b[0m\n\u001b[1;32m      4\u001b[0m             \u001b[0;32mreturn\u001b[0m \u001b[0msuper\u001b[0m\u001b[0;34m(\u001b[0m\u001b[0;34m)\u001b[0m\u001b[0;34m.\u001b[0m\u001b[0m__getattribute__\u001b[0m\u001b[0;34m(\u001b[0m\u001b[0mitem\u001b[0m\u001b[0;34m)\u001b[0m\u001b[0;34m\u001b[0m\u001b[0;34m\u001b[0m\u001b[0m\n\u001b[1;32m      5\u001b[0m         \u001b[0;32melse\u001b[0m\u001b[0;34m:\u001b[0m\u001b[0;34m\u001b[0m\u001b[0;34m\u001b[0m\u001b[0m\n\u001b[0;32m----> 6\u001b[0;31m             \u001b[0;32mraise\u001b[0m \u001b[0mAttributeError\u001b[0m\u001b[0;34m\u001b[0m\u001b[0;34m\u001b[0m\u001b[0m\n\u001b[0m\u001b[1;32m      7\u001b[0m \u001b[0;34m\u001b[0m\u001b[0m\n\u001b[1;32m      8\u001b[0m \u001b[0;34m\u001b[0m\u001b[0m\n",
      "\u001b[0;31mAttributeError\u001b[0m: "
     ]
    }
   ],
   "source": [
    "class A:\n",
    "    def __getattribute__(self, item):\n",
    "        if 'test' in item or '__dict__' == item:\n",
    "            return super().__getattribute__(item)\n",
    "        else:\n",
    "            raise AttributeError\n",
    "\n",
    "\n",
    "a = A()\n",
    "a.test_name = 1\n",
    "a.name = 1\n",
    "print('a.__dict__', a.__dict__)\n",
    "print('a.test_name', a.test_name)\n",
    "print('a.name', a.name)"
   ]
  },
  {
   "cell_type": "markdown",
   "metadata": {},
   "source": [
    "## Общий алгоритм получения атрибута\n",
    "\n",
    "Чтобы получить значение атрибута attrname:\n",
    "- Если определён метод `a.__class__.__getattribute__()`, то вызывается он и возвращается полученное значение.\n",
    "- Если attrname это специальный (определённый python-ом) атрибут, такой как `__class__` или `__doc__`, возвращается его значение.\n",
    "- Проверяется `a.__class__.__dict__` на наличие записи с attrname. Если она существует и значением является data дескриптор, возвращается результат вызова метода `__get__()` дескриптора. Также проверяются все базовые классы.\n",
    "- Если в `a.__dict__` существует запись с именем attrname, возвращается значение этой записи.\n",
    "- Проверяется `a.__class__.__dict__`, если в нём существует запись с attrname и это non-data дескриптор, возвращается результат `__get__()` дескриптора, если запись существует и там не дескриптор, возвращается значение записи. Также обыскиваются базовые классы.\n",
    "- Если существует метод `a.__class__.__getattr__()`, он вызывается и возвращается его результат. Если такого метода нет — выкидывается `AttributeError`.\n",
    "\n",
    "## Общий алгоритм назначения атрибута\n",
    "\n",
    "Чтобы установить значение value атрибута attrname экземпляра a:\n",
    "- Если существует метод `a.__class__.__setattr__()`, он вызывается.\n",
    "- Проверяется `a.__class__.__dict__`, если в нём есть запись с attrname и это дескриптор данных — вызывается метод `__set__()` дескриптора. Также проверяются базовые классы.\n",
    "- `a.__dict__` добавляется запись value с ключом attrname."
   ]
  },
  {
   "cell_type": "markdown",
   "metadata": {},
   "source": [
    "## Задание\n",
    "\n",
    "Доработать класс `Field` так, чтобы вдобавок к реализованному функционалу появились следующие возможности:\n",
    "\n",
    "`field = Field()`\n",
    "- Запись значения в ячейку:\n",
    "    - `field.a1 = 25` - эквивалентно `field['a1'] = 25`\n",
    "    - `field.A1 = 25` - то же самое\n",
    "- Получение значения:\n",
    "`field['b', 2] = 100\n",
    "field.b2\n",
    "field.B2`\n",
    "\n",
    "- Удаление значения:\n",
    "`del field.a1`, `del field.A1` - эквивалентно `del field['a', 1]`\n",
    "\n",
    "Таким образом, внутри класса `Field` методы работы с атрибутами должны работать с тем же объектом, в котором хранятся значения, обрабатываемые в методах `__setitem__`, `__getitem__`, `__delitem__`.\n",
    "\n",
    "Кроме того, обычное присвоение и получение атрибутов (тех, которые не являются адресом ячейки данных нашего класса) должно производиться по стандартному алгоритму питоновских объектов, т.е. они должны храниться в словаре `__dict__` объекта.\n",
    "\n",
    "`field = Field()\n",
    "field.abcde = 125\n",
    "field.__dict__['abcde'] == 125`\n",
    "\n",
    "Для таких атрибутов также должны быть реализованы получение, присваивание и удаление значения."
   ]
  },
  {
   "cell_type": "code",
   "execution_count": 41,
   "metadata": {},
   "outputs": [],
   "source": [
    "import re\n",
    "\n",
    "class Field(dict):\n",
    "    \"\"\"Doc\"\"\"\n",
    "    \n",
    "    \n",
    "    def __getitem__(self, key1):\n",
    "        return super().__getitem__(self.take_args(key1))\n",
    "    \n",
    "    \n",
    "    def __setitem__(self, key1, value):\n",
    "        super().__setitem__(self.take_args(key1), value)\n",
    "        \n",
    "        \n",
    "    def __delitem__(self, key1):\n",
    "        super().__delitem__(self.take_args(key1))\n",
    "         \n",
    "            \n",
    "    def __missing__(self, key1):\n",
    "        return None\n",
    "    \n",
    "    \n",
    "    def __contains__(self, item):\n",
    "        return self[item] != self.__missing__(1)\n",
    "\n",
    "    \n",
    "    def __iter__(self):\n",
    "        for el in self.values():\n",
    "            yield el\n",
    "            \n",
    "            \n",
    "    def __setattr__(self, name, value):\n",
    "        name = name.lower()\n",
    "        try:\n",
    "            self[name] = value\n",
    "        except:\n",
    "            super().__setattr__(name, value)\n",
    "        \n",
    "    \n",
    "    def __getattr__(self, name):\n",
    "        return self[name.lower()]\n",
    "\n",
    "    \n",
    "    def __delattr__(self, key):\n",
    "        key = key.lower()\n",
    "        try:\n",
    "            del self[self.take_args(key)]\n",
    "        except:\n",
    "            super().__delattr__(key)\n",
    "    \n",
    "    \n",
    "    @staticmethod\n",
    "    def take_args(value):\n",
    "        val_err = ValueError(\"Значение позиции ячейки неверно\")\n",
    "        \n",
    "        if type(value) is tuple:\n",
    "            general = str(value[0]) + str(value[1])\n",
    "        elif type(value) is str:\n",
    "            general = str(value)\n",
    "        else:\n",
    "            raise TypeError(\"Передано значение позиции неверного типа\")\n",
    "        if len(general) == 0:\n",
    "            raise val_err\n",
    "        general = general.lower()\n",
    "\n",
    "        numbers = re.findall(r\"\\d+\", general)\n",
    "        not_numbers = re.findall(r\"\\D+\", general)\n",
    "        # Для предотвращения возникновения ошибки \"list index out of range\"\n",
    "        if len(not_numbers) == 0:\n",
    "            raise val_err\n",
    "        letters = re.findall(r\"[a-zA-Z]\", not_numbers[0])\n",
    "        if (len(numbers) != 1) or (len(not_numbers) != 1) or\\\n",
    "         (len(letters) != 1) or (letters[0] != not_numbers[0]):\n",
    "            raise val_err\n",
    "        \n",
    "        return str(letters[0])+str(numbers[0])"
   ]
  },
  {
   "cell_type": "code",
   "execution_count": 43,
   "metadata": {},
   "outputs": [
    {
     "name": "stdout",
     "output_type": "stream",
     "text": [
      "10\n",
      "10\n",
      "10\n",
      "None\n",
      "125\n",
      "125 125\n",
      "{'abcde': 125}\n"
     ]
    }
   ],
   "source": [
    "field = Field()\n",
    "field.a1 = 10\n",
    "print(field.A1)\n",
    "print(field['A1'])\n",
    "print(field.a1)\n",
    "del field.a1\n",
    "print(field.a1)\n",
    "\n",
    "field = Field()\n",
    "field.abcde = 125\n",
    "print(field.abcde)\n",
    "print(field.abcde, field.__dict__['abcde'])\n",
    "print(field.__dict__)"
   ]
  },
  {
   "cell_type": "code",
   "execution_count": null,
   "metadata": {},
   "outputs": [],
   "source": []
  }
 ],
 "metadata": {
  "kernelspec": {
   "display_name": "Python 3 (ipykernel)",
   "language": "python",
   "name": "python3"
  },
  "language_info": {
   "codemirror_mode": {
    "name": "ipython",
    "version": 3
   },
   "file_extension": ".py",
   "mimetype": "text/x-python",
   "name": "python",
   "nbconvert_exporter": "python",
   "pygments_lexer": "ipython3",
   "version": "3.9.12"
  }
 },
 "nbformat": 4,
 "nbformat_minor": 2
}
